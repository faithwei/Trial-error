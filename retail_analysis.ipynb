{
 "cells": [
  {
   "cell_type": "code",
   "execution_count": null,
   "metadata": {
    "collapsed": false
   },
   "outputs": [],
   "source": [
    "import pandas as pd\n",
    "from fuzzywuzzy import fuzz\n",
    "from fuzzywuzzy import process\n",
    "from pandas import Series,DataFrame\n",
    "\n",
    "reported_df = pd.read_csv('reported.csv')\n",
    "\n",
    "# See a preview of the data\n",
    "reported_df.head()"
   ]
  },
  {
   "cell_type": "code",
   "execution_count": null,
   "metadata": {
    "collapsed": false
   },
   "outputs": [],
   "source": [
    "reported_df.info()\n"
   ]
  },
  {
   "cell_type": "code",
   "execution_count": null,
   "metadata": {
    "collapsed": false
   },
   "outputs": [],
   "source": [
    "retail_df = pd.read_csv('retail.csv')\n",
    "retail_df.head()"
   ]
  },
  {
   "cell_type": "code",
   "execution_count": null,
   "metadata": {
    "collapsed": false
   },
   "outputs": [],
   "source": [
    "def read_file_by_iteration(file_name):\n",
    "    retail_list = []\n",
    "    with open (file_name) as my_file:\n",
    "        for line in my_file:\n",
    "            retail_list.append(line.strip('\\n'))\n",
    "    return retail_list\n",
    "\n",
    "retail = read_file_by_iteration('retail.csv')\n",
    "report = read_file_by_iteration('reported.csv')\n",
    "print report"
   ]
  },
  {
   "cell_type": "code",
   "execution_count": null,
   "metadata": {
    "collapsed": false
   },
   "outputs": [],
   "source": [
    "def ldratio(data):\n",
    "retail = read_file_by_iteration('retail.csv')\n",
    "    for item in data:\n",
    "        process.extract(item,retail,limit=2)\n",
    "        \n",
    "print ldratio(report)"
   ]
  },
  {
   "cell_type": "code",
   "execution_count": null,
   "metadata": {
    "collapsed": true
   },
   "outputs": [],
   "source": []
  }
 ],
 "metadata": {
  "anaconda-cloud": {},
  "kernelspec": {
   "display_name": "Python [Root]",
   "language": "python",
   "name": "Python [Root]"
  },
  "language_info": {
   "codemirror_mode": {
    "name": "ipython",
    "version": 2
   },
   "file_extension": ".py",
   "mimetype": "text/x-python",
   "name": "python",
   "nbconvert_exporter": "python",
   "pygments_lexer": "ipython2",
   "version": "2.7.12"
  }
 },
 "nbformat": 4,
 "nbformat_minor": 0
}
